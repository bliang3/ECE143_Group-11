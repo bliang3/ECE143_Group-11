{
 "cells": [
  {
   "cell_type": "code",
   "execution_count": 6,
   "metadata": {
    "collapsed": true
   },
   "outputs": [],
   "source": [
    "import csv\n",
    "from _decimal import Decimal, ROUND_FLOOR\n",
    "\n",
    "import xlrd"
   ]
  },
  {
   "cell_type": "code",
   "execution_count": 7,
   "metadata": {
    "collapsed": true
   },
   "outputs": [],
   "source": [
    "def open_excel (file):\n",
    "    '''\n",
    "    Read in a particular file. Print success if it opens the file. Otherwise, print failure.\n",
    "    '''\n",
    "    try:\n",
    "        data = xlrd.open_workbook(file)\n",
    "        print('success')\n",
    "        return data\n",
    "    except Exception as e:\n",
    "        print (str(e))"
   ]
  },
  {
   "cell_type": "code",
   "execution_count": 8,
   "metadata": {
    "collapsed": true
   },
   "outputs": [],
   "source": [
    "def excel_table (file, colnameindex = 2, by_name = u'tb_2010'):\n",
    "    '''\n",
    "    Read in dirty data and return a list containing all the data to be written into a new csv file.\n",
    "    \n",
    "    \n",
    "    Keyword arguments:\n",
    "    \n",
    "    file -- file to be read\n",
    "    colnameindex -- starting row to be read\n",
    "    by_name -- sheet name of the file read in\n",
    "    \n",
    "    '''\n",
    "    data = open_excel(file)\n",
    "    table = data.sheet_by_name(by_name)\n",
    "    nrows = table.nrows  \n",
    "    # header to be read\n",
    "    colnames2 = ['SampleDate', 'Analyte', 'Result', 'Latitude', 'Longitude', 'Year']\n",
    "    list = []  \n",
    "\n",
    "    targetNum = [5, 17, 19, 36, 37] # Particular column to read\n",
    "\n",
    "    for rowNum in range(3, nrows):\n",
    "        d = dict()\n",
    "        row = table.row_values(rowNum) \n",
    "        if row:\n",
    "            for i in range(len(targetNum)):  \n",
    "                # Handle the time read in and process the time\n",
    "                if i == 0:\n",
    "                    k = []\n",
    "                    flag = 1\n",
    "                    tmp = xlrd.xldate_as_tuple(table.cell(rowNum, targetNum[i]).value, 0)\n",
    "                    k.append(\"/\".join(str(x) for x in tmp[0:3]))\n",
    "                    \n",
    "                elif i == 1:\n",
    "                    k.append(row[targetNum[i]])\n",
    "                elif i == 2:\n",
    "                    if isinstance(row[targetNum[i]], float):\n",
    "                        k.append(row[targetNum[i]])\n",
    "                    else:\n",
    "                        k.append(0)\n",
    "                elif i == 3 or i == 4:\n",
    "                    # Truncate geolocation point to one digit\n",
    "                    if isinstance(row[targetNum[i]], float):\n",
    "                        k.append(float(round(row[targetNum[i]], 1)))\n",
    "                    else:\n",
    "                        k.append(0)\n",
    "\n",
    "            tmp = xlrd.xldate_as_tuple(table.cell(rowNum, targetNum[0]).value, 0)\n",
    "            k.append(tmp[0])\n",
    "\n",
    "            if flag == 1:\n",
    "                for m in range(len(k)):\n",
    "                    d[colnames2[m]] = k[m]\n",
    "        list.append(d) \n",
    "\n",
    "    print('success')\n",
    "    return list\n"
   ]
  },
  {
   "cell_type": "code",
   "execution_count": 9,
   "metadata": {
    "collapsed": true
   },
   "outputs": [],
   "source": [
    "def write_csv (list, by_name = u'tb_2010'):\n",
    "    '''\n",
    "    Read in the list and write each row into a new file.\n",
    "    \n",
    "    \n",
    "    Keyword arguments:\n",
    "    \n",
    "    list -- list containing every rows to be written\n",
    "    by_name -- sheet name of the file to write\n",
    "    \n",
    "    '''\n",
    "    fileheader = ['SampleDate', 'Analyte', 'Result', 'Latitude', 'Longitude', 'Year']\n",
    "    if by_name == u'tb_2010':\n",
    "        print('page is open now')\n",
    "        csvFile = open(\"tb_new.csv\", \"w\", newline='')\n",
    "        print('success in opening')\n",
    "        dict_writer = csv.DictWriter(csvFile, fileheader)\n",
    "        dict_writer.writeheader()\n",
    "        for i in list:\n",
    "            # Delete the row containing meaningless data\n",
    "            if i['Result'] == 0 or i['Latitude'] == 0 or i['Longitude'] == 0:\n",
    "                continue\n",
    "            dict_writer.writerow(i)\n",
    "        return\n",
    "\n",
    "    csvFile = open(\"tb_new.csv\", \"a\", newline='')\n",
    "    dict_writer = csv.DictWriter(csvFile, fileheader)\n",
    "\n",
    "    for i in list:\n",
    "\n",
    "        if i['Result'] == 0 or i['Latitude'] == 0 or i['Longitude'] == 0:\n",
    "            continue\n",
    "\n",
    "        dict_writer.writerow(i) # Write into new file if it is a valid row of data\n",
    "    csvFile.close()"
   ]
  },
  {
   "cell_type": "code",
   "execution_count": 10,
   "metadata": {},
   "outputs": [
    {
     "name": "stdout",
     "output_type": "stream",
     "text": [
      "success\n",
      "success\n",
      "page is open now\n",
      "success in opening\n",
      "success\n",
      "success\n",
      "success\n",
      "success\n",
      "success\n",
      "success\n",
      "success\n",
      "success\n",
      "success\n",
      "success\n",
      "success\n",
      "success\n",
      "success\n",
      "success\n",
      "success\n",
      "success\n"
     ]
    }
   ],
   "source": [
    "p1 = 'tb/tb_2010.xls'\n",
    "p2 = 'tb/tb_2011.xls'\n",
    "p3 = 'tb/tb_2012.xls'\n",
    "p4 = 'tb/tb_2013.xls'\n",
    "p5 = 'tb/tb_2014.xls'\n",
    "p6 = 'tb/tb_2015.xls'\n",
    "p7 = 'tb/tb_2016.xls'\n",
    "p8 = 'tb/tb_2017.xls'\n",
    "p9 = 'tb/tb_2018.xls'\n",
    "\n",
    "p_index = [p1, p2, p3, p4, p5, p6, p7, p8, p9]\n",
    "by_name = [u'tb_2010', u'tb_2011', u'tb_2012', u'tb_2013', u'tb_2014', u'tb_2015', u'tb_2016', u'tb_2017', u'tb_2018']\n",
    "for k in range(len(by_name)):\n",
    "    write_csv(excel_table(p_index[k], 2, by_name[k]), by_name[k])"
   ]
  },
  {
   "cell_type": "code",
   "execution_count": null,
   "metadata": {
    "collapsed": true
   },
   "outputs": [],
   "source": []
  }
 ],
 "metadata": {
  "kernelspec": {
   "display_name": "Python 3",
   "language": "python",
   "name": "python3"
  },
  "language_info": {
   "codemirror_mode": {
    "name": "ipython",
    "version": 3
   },
   "file_extension": ".py",
   "mimetype": "text/x-python",
   "name": "python",
   "nbconvert_exporter": "python",
   "pygments_lexer": "ipython3",
   "version": "3.6.1"
  }
 },
 "nbformat": 4,
 "nbformat_minor": 2
}
