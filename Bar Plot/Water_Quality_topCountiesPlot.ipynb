{
 "cells": [
  {
   "cell_type": "code",
   "execution_count": 10,
   "metadata": {
    "collapsed": true
   },
   "outputs": [],
   "source": [
    "import csv\n",
    "import xlrd\n",
    "import pandas as pd"
   ]
  },
  {
   "cell_type": "code",
   "execution_count": 11,
   "metadata": {},
   "outputs": [
    {
     "name": "stdout",
     "output_type": "stream",
     "text": [
      "        county  popu_density  median_oxy_Result  median_tb_Result  \\\n",
      "0       Orange      3.288161              7.290             14.00   \n",
      "1  Los Angeles      2.109371              7.995              2.58   \n",
      "2      Alameda      1.940667              9.020              4.40   \n",
      "3   Sacramento      1.478901              9.100              4.18   \n",
      "4  Santa Clara      1.437141             10.735             11.50   \n",
      "\n",
      "   median_ph_Result  median_temp_Result  \n",
      "0              8.01               13.17  \n",
      "1              8.10               17.80  \n",
      "2              7.78               17.80  \n",
      "3              7.50               18.47  \n",
      "4              7.94               15.80  \n"
     ]
    }
   ],
   "source": [
    "df = pd.read_excel('final_result.xls')\n",
    "print(df)"
   ]
  },
  {
   "cell_type": "code",
   "execution_count": 15,
   "metadata": {
    "collapsed": true
   },
   "outputs": [],
   "source": [
    "'''Achieve pure datain each row'''\n",
    "row_orange = df.loc[0]\n",
    "row_orange_1 = row_orange.iloc[1:6]\n",
    "row_LA = df.loc[1]\n",
    "row_LA_1 = row_LA.iloc[1:6]\n",
    "row_Alamada = df.loc[2]\n",
    "row_Alamada_1 = row_Alamada.iloc[1:6]\n",
    "row_Sacramento = df.loc[3]\n",
    "row_Sacramento_1 = row_Sacramento.iloc[1:6]\n",
    "row_SC = df.loc[4]\n",
    "row_SC_1 = row_SC.iloc[1:6]"
   ]
  },
  {
   "cell_type": "code",
   "execution_count": 16,
   "metadata": {},
   "outputs": [
    {
     "data": {
      "text/plain": [
       "Text(0.5,1,'Water Quality of top 5 counties (excluding San Francisco) in CA')"
      ]
     },
     "execution_count": 16,
     "metadata": {},
     "output_type": "execute_result"
    }
   ],
   "source": [
    "import matplotlib.pyplot as plt\n",
    "plt.figure(figsize=(10, 6))\n",
    "xweek=range(0,len(row_orange_1))\n",
    "xweek1=[i+0.12 for i in xweek]\n",
    "xweek2=[i+0.24 for i in xweek]\n",
    "xweek3=[i+0.36 for i in xweek]\n",
    "xweek4=[i+0.48 for i in xweek]\n",
    "\n",
    "'''Generate the plot'''\n",
    "plt.bar(xweek,row_orange_1,color='b',width = .12,alpha=0.6,label='Orange County')\n",
    "plt.bar(xweek1,row_LA_1,color='r',width = .12,alpha=0.6,label='Los Angeles')\n",
    "plt.bar(xweek2,row_Alamada_1,color='y',width = .12,alpha=0.6,label='Alameda County')\n",
    "plt.bar(xweek3,row_Sacramento_1,color='g',width = .12,alpha=0.6,label='Sacramento')\n",
    "plt.bar(xweek4,row_SC_1,color='c',width = .12,alpha=0.6,label='Santa Clara')\n",
    "plt.legend(loc='upper left')\n",
    "plt.xticks(range(0,5),['population_density','median_oxygen', 'median_tb','median_ph','median_temperature'])\n",
    "plt.title('Water Quality of top 5 counties (excluding San Francisco) in CA')"
   ]
  },
  {
   "cell_type": "code",
   "execution_count": 17,
   "metadata": {},
   "outputs": [
    {
     "data": {
      "image/png": "[encoded data removed]",
      "text/plain": [
       "<matplotlib.figure.Figure at 0x7f8c18614080>"
      ]
     },
     "metadata": {},
     "output_type": "display_data"
    }
   ],
   "source": [
    "plt.show()"
   ]
  },
  {
   "cell_type": "code",
   "execution_count": null,
   "metadata": {
    "collapsed": true
   },
   "outputs": [],
   "source": []
  }
 ],
 "metadata": {
  "kernelspec": {
   "display_name": "Python 3",
   "language": "python",
   "name": "python3"
  },
  "language_info": {
   "codemirror_mode": {
    "name": "ipython",
    "version": 3
   },
   "file_extension": ".py",
   "mimetype": "text/x-python",
   "name": "python",
   "nbconvert_exporter": "python",
   "pygments_lexer": "ipython3",
   "version": "3.6.1"
  }
 },
 "nbformat": 4,
 "nbformat_minor": 2
}
