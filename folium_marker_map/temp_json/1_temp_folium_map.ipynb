{
 "cells": [
  {
   "cell_type": "markdown",
   "metadata": {},
   "source": [
    "# Folium map with Marker\n",
    "## ( with anual averaged temp value from each county)\n",
    "## import the librarlies"
   ]
  },
  {
   "cell_type": "code",
   "execution_count": 1,
   "metadata": {
    "collapsed": true
   },
   "outputs": [],
   "source": [
    "import json\n",
    "import folium\n",
    "\n",
    "import pandas as pd\n",
    "import numpy as np\n",
    "import os\n",
    "from IPython.display import HTML, display"
   ]
  },
  {
   "cell_type": "markdown",
   "metadata": {},
   "source": [
    "## display function, creates html output\n"
   ]
  },
  {
   "cell_type": "code",
   "execution_count": 2,
   "metadata": {
    "collapsed": true
   },
   "outputs": [],
   "source": [
    "from  IPython.display  import HTML\n",
    "\n",
    "def display(m):\n",
    "    \"\"\"Takes a folium instance and embed HTML.\"\"\"\n",
    "    #m._build_map()\n",
    "    height=1000\n",
    "    srcdoc = m.HTML.replace('\"', '&quot;')\n",
    "    embed = HTML('<iframe srcdoc=\"{0}\" '\n",
    "                 'style=\"width: 100%; height: {1}px; '\n",
    "                 'border: none\"></iframe>'.format(srcdoc, height))\n",
    "    return embed"
   ]
  },
  {
   "cell_type": "markdown",
   "metadata": {},
   "source": [
    "#### creates folium map\n",
    "creates the foliummap with initial setting\n",
    "geojson files creates another layer on top of original map_osm\n",
    "county_dat.csv inclues all the mean values geolocation data of each county"
   ]
  },
  {
   "cell_type": "code",
   "execution_count": 5,
   "metadata": {
    "collapsed": true
   },
   "outputs": [],
   "source": [
    "map_osm = folium.Map([33.681229,-117.258796691895],zoom_start=6,tiles='Stamen Terrain')\n",
    "ca_counties = r'ca-counties.geojson'\n",
    "folium.GeoJson(ca_counties,name='geojson').add_to(map_osm)\n",
    "folium.LayerControl().add_to(map_osm)\n",
    "\n",
    "colnames = ['county','mean_Latitude','mean_Longitude','landArea','population','density']\n",
    "\n",
    "df = pd.read_csv('county_data.csv',names= colnames,header =0)\n",
    "county = df['county']\n",
    "Latitude = df['mean_Latitude']\n",
    "Longitude =df['mean_Longitude']\n",
    "landArea = df['landArea']\n",
    "population = df['population']\n",
    "density = df['density']"
   ]
  },
  {
   "cell_type": "markdown",
   "metadata": {},
   "source": [
    "#### json file list\n",
    "json files include the bar graph with data and this creates pop up window when we click the marker on the map\n"
   ]
  },
  {
   "cell_type": "code",
   "execution_count": 6,
   "metadata": {
    "collapsed": true
   },
   "outputs": [],
   "source": [
    "county_json_list =['temp_Alameda.json','temp_Alpine.json','temp_Amador.json','temp_Butte.json','temp_Calaveras.json','temp_Colusa.json',\n",
    "                   'temp_Contra Costa.json','temp_Del Norte.json','temp_El dorado.json','temp_Fresno.json','temp_Glenn.json','temp_Humboldt.json','temp_Imperial.json','temp_Inyo.json',\n",
    "                   'temp_Kern.json','temp_Kings.json','temp_Lake.json','temp_Lassen.json','temp_LA.json','temp_Madera.json','temp_Marin.json',\n",
    "                   'temp_Mariposa.json','temp_Mendocino.json','temp_Merced.json','temp_Modoc.json','temp_Mono.json',\n",
    "                   'temp_Monterey.json','temp_Napa.json','temp_Nevada.json','temp_Orange.json','temp_Placer.json',\n",
    "                   'temp_Plumas.json', 'temp_Riverside.json', 'temp_Sacramento.json', 'temp_SanBenito.json', 'temp_SanBernardino.json',\n",
    "                   'temp_SanDiego.json', 'temp_SanJoaquin.json', 'temp_SanLuisObispo.json', 'temp_SanMateo.json',\n",
    "                   'temp_SantaBarbara.json', 'temp_SantaClara.json', 'temp_SantaCruz.json', 'temp_Shasta.json', 'temp_Sierra.json',\n",
    "                   'temp_Siskiyou.json', 'temp_Solano.json', 'temp_Stanislaus.json', 'temp_Sutter.json', 'temp_Tehama.json',\n",
    "                   'temp_Trinity.json', 'temp_Tulare.json', 'temp_Tuolumne.json', 'temp_Ventura.json', 'temp_Yolo.json',\n",
    "                    'temp_Yuba.json']"
   ]
  },
  {
   "cell_type": "markdown",
   "metadata": {},
   "source": [
    "#### creates marker with pop up and call json files\n"
   ]
  },
  {
   "cell_type": "code",
   "execution_count": 7,
   "metadata": {},
   "outputs": [
    {
     "data": {
      "text/plain": [
       "'<folium.folium.Map object at 0x00000260F0364208>'"
      ]
     },
     "execution_count": 7,
     "metadata": {},
     "output_type": "execute_result"
    }
   ],
   "source": [
    "# creates marker and popup window\n",
    "for i in range(56):\n",
    "    folium.Marker([float(Latitude[i]), float(Longitude[i])],popup=folium.Popup(max_width=600).add_child(folium.Vega(json.load(open(county_json_list[i])), width=500, height=300))).add_to(map_osm)\n",
    "\n",
    "    \n",
    "iframe = map_osm.__repr__()\n",
    "iframe"
   ]
  },
  {
   "cell_type": "markdown",
   "metadata": {},
   "source": [
    "#### save the created map on the local, with html file"
   ]
  },
  {
   "cell_type": "code",
   "execution_count": 8,
   "metadata": {
    "collapsed": true
   },
   "outputs": [],
   "source": [
    "map_osm.save('final_temp_map.html')"
   ]
  },
  {
   "cell_type": "code",
   "execution_count": null,
   "metadata": {
    "collapsed": true
   },
   "outputs": [],
   "source": []
  }
 ],
 "metadata": {
  "kernelspec": {
   "display_name": "Python 3",
   "language": "python",
   "name": "python3"
  },
  "language_info": {
   "codemirror_mode": {
    "name": "ipython",
    "version": 3
   },
   "file_extension": ".py",
   "mimetype": "text/x-python",
   "name": "python",
   "nbconvert_exporter": "python",
   "pygments_lexer": "ipython3",
   "version": "3.6.3"
  }
 },
 "nbformat": 4,
 "nbformat_minor": 2
}
