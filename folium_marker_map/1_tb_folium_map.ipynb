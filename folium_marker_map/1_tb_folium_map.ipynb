{
 "cells": [
  {
   "cell_type": "markdown",
   "metadata": {},
   "source": [
    "# Folium map with Marker\n",
    "## ( with anual averaged turbidity value from each county)\n",
    "## import the librarlies"
   ]
  },
  {
   "cell_type": "code",
   "execution_count": 1,
   "metadata": {
    "collapsed": true
   },
   "outputs": [],
   "source": [
    "import json\n",
    "import folium\n",
    "\n",
    "import pandas as pd\n",
    "import numpy as np\n",
    "import os\n",
    "from IPython.display import HTML, display\n"
   ]
  },
  {
   "cell_type": "markdown",
   "metadata": {},
   "source": [
    "## display function, creates html output\n",
    "\n"
   ]
  },
  {
   "cell_type": "code",
   "execution_count": 12,
   "metadata": {
    "collapsed": true
   },
   "outputs": [],
   "source": [
    "from  IPython.display  import HTML\n",
    "\n",
    "def display(m):\n",
    "    '''\n",
    "    display folium data to with the html output\n",
    "    param: m : folium map with every layer added\n",
    "    '''\n",
    "    #m._build_map()\n",
    "    height=1000\n",
    "    srcdoc = m.HTML.replace('\"', '&quot;')\n",
    "    embed = HTML('<iframe srcdoc=\"{0}\" '\n",
    "                 'style=\"width: 100%; height: {1}px; '\n",
    "                 'border: none\"></iframe>'.format(srcdoc, height))\n",
    "    return embed"
   ]
  },
  {
   "cell_type": "markdown",
   "metadata": {},
   "source": [
    "#### creates folium map\n",
    "creates the foliummap with initial setting\n",
    "geojson files creates another layer on top of original map_osm\n",
    "'county_dat.csv' inclues all the mean values geolocation data of each county\n",
    "we use 'pandas' libraries to read the 'county_data.csv'. It has all the counties geolocation data, we are able to get the average geo location value from using \"zip code\" we use pandas to filter them all by the name of the county.we use 'GeoPy' libraries. "
   ]
  },
  {
   "cell_type": "code",
   "execution_count": 11,
   "metadata": {
    "collapsed": true
   },
   "outputs": [],
   "source": [
    "map_osm = folium.Map([33.681229,-117.258796691895],zoom_start=6,tiles='Stamen Terrain')\n",
    "ca_counties = r'ca-counties.geojson'\n",
    "folium.GeoJson(ca_counties,name='geojson').add_to(map_osm)\n",
    "folium.LayerControl().add_to(map_osm)\n",
    "\n",
    "colnames = ['county','mean_Latitude','mean_Longitude','landArea','population','density']\n",
    "\n",
    "df = pd.read_csv('county_data.csv',names= colnames,header =0)\n",
    "county = df['county']\n",
    "Latitude = df['mean_Latitude']\n",
    "Longitude =df['mean_Longitude']\n",
    "landArea = df['landArea']\n",
    "population = df['population']\n",
    "density = df['density']"
   ]
  },
  {
   "cell_type": "markdown",
   "metadata": {},
   "source": [
    "#### json file list\n",
    "json files include the bar graph with data and this creates pop up window when we click the marker on the map\n",
    "\n",
    "###### How we make this?\n",
    "Every measured points has the location value, but we are not able to get the name of the each county. So we also use 'GeoPy' to find the name of county from each variable. and then we filtered them with 'Year' and 'County' and also we use 'pandas' to get the median value of parameters.\n",
    "So we make json files with graph based on the annual average data of each county.\n",
    "\n"
   ]
  },
  {
   "cell_type": "code",
   "execution_count": 5,
   "metadata": {
    "collapsed": true
   },
   "outputs": [],
   "source": [
    "county_json_list =['tb_Alameda.json','tb_Alpine.json','tb_Amador.json','tb_Butte.json','tb_Calaveras.json','tb_Colusa.json',\n",
    "                   'tb_Contra Costa.json','tb_Del Norte.json','tb_El Dorado.json','tb_Fresno.json','tb_Glenn.json','tb_Humboldt.json','tb_Imperial.json','tb_Inyo.json',\n",
    "                   'tb_Kern.json','tb_Kings.json','tb_Lake.json','tb_Lassen.json','tb_LA.json','tb_Madera.json','tb_Marin.json',\n",
    "                   'tb_Mariposa.json','tb_Mendocino.json','tb_Merced.json','tb_Modoc.json','tb_Mono.json',\n",
    "                   'tb_Monterey.json','tb_Napa.json','tb_Nevada.json','tb_Orange.json','tb_Placer.json',\n",
    "                   'tb_Plumas.json', 'tb_Riverside.json', 'tb_Sacramento.json', 'tb_SanBenito.json', 'tb_SanBernardino.json',\n",
    "                   'tb_SanDiego.json', 'tb_SanJoaquin.json', 'tb_SanLuisObispo.json', 'tb_SanMateo.json',\n",
    "                   'tb_SantaBarbara.json', 'tb_SantaClara.json', 'tb_SantaCruz.json', 'tb_Shasta.json', 'tb_Sierra.json',\n",
    "                   'tb_Siskiyou.json', 'tb_Solano.json', 'tb_Stanislaus.json', 'tb_Sutter.json', 'tb_Tehama.json',\n",
    "                   'tb_Trinity.json', 'tb_Tulare.json', 'tb_Tuolumne.json', 'tb_Ventura.json', 'tb_Yolo.json',\n",
    "                    'tb_Yuba.json']"
   ]
  },
  {
   "cell_type": "markdown",
   "metadata": {},
   "source": [
    "#### creates marker with pop up and call json files"
   ]
  },
  {
   "cell_type": "code",
   "execution_count": null,
   "metadata": {
    "collapsed": true
   },
   "outputs": [],
   "source": []
  }
 ],
 "metadata": {
  "kernelspec": {
   "display_name": "Python 3",
   "language": "python",
   "name": "python3"
  },
  "language_info": {
   "codemirror_mode": {
    "name": "ipython",
    "version": 3
   },
   "file_extension": ".py",
   "mimetype": "text/x-python",
   "name": "python",
   "nbconvert_exporter": "python",
   "pygments_lexer": "ipython3",
   "version": "3.6.3"
  }
 },
 "nbformat": 4,
 "nbformat_minor": 2
}
