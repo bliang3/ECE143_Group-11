{
 "cells": [
  {
   "cell_type": "markdown",
   "metadata": {},
   "source": [
    "# Folium map with Marker\n",
    "## ( with anual averaged phvalue from each county)\n",
    "## import the librarlies"
   ]
  },
  {
   "cell_type": "code",
   "execution_count": 1,
   "metadata": {
    "collapsed": true
   },
   "outputs": [],
   "source": [
    "import json\n",
    "import folium\n",
    "\n",
    "import pandas as pd\n",
    "import numpy as np\n",
    "import os\n",
    "from IPython.display import HTML, display\n"
   ]
  },
  {
   "cell_type": "markdown",
   "metadata": {},
   "source": [
    "## display function, creates html output\n"
   ]
  },
  {
   "cell_type": "code",
   "execution_count": 2,
   "metadata": {
    "collapsed": true
   },
   "outputs": [],
   "source": [
    "from  IPython.display  import HTML\n",
    "\n",
    "def display(m):\n",
    "    \"\"\"Takes a folium instance and embed HTML.\"\"\"\n",
    "    #m._build_map()\n",
    "    height=1000\n",
    "    srcdoc = m.HTML.replace('\"', '&quot;')\n",
    "    embed = HTML('<iframe srcdoc=\"{0}\" '\n",
    "                 'style=\"width: 100%; height: {1}px; '\n",
    "                 'border: none\"></iframe>'.format(srcdoc, height))\n",
    "    return embed"
   ]
  },
  {
   "cell_type": "markdown",
   "metadata": {},
   "source": [
    "#### creates folium map\n",
    "creates the foliummap with initial setting\n",
    "geojson files creates another layer on top of original map_osm\n",
    "county_dat.csv inclues all the mean values geolocation data of each county"
   ]
  },
  {
   "cell_type": "code",
   "execution_count": 3,
   "metadata": {
    "collapsed": true
   },
   "outputs": [],
   "source": [
    "map_osm = folium.Map([33.681229,-117.258796691895],zoom_start=6,tiles='Stamen Terrain')\n",
    "ca_counties = r'ca-counties.geojson'\n",
    "folium.GeoJson(ca_counties,name='geojson').add_to(map_osm)\n",
    "folium.LayerControl().add_to(map_osm)\n",
    "\n",
    "colnames = ['county','mean_Latitude','mean_Longitude','landArea','population','density']\n",
    "\n",
    "df = pd.read_csv('county_data.csv',names= colnames,header =0)\n",
    "county = df['county']\n",
    "Latitude = df['mean_Latitude']\n",
    "Longitude =df['mean_Longitude']\n",
    "landArea = df['landArea']\n",
    "population = df['population']\n",
    "density = df['density']"
   ]
  },
  {
   "cell_type": "markdown",
   "metadata": {},
   "source": [
    "#### json file list\n",
    "json files include the bar graph with data and this creates pop up window when we click the marker on the map"
   ]
  },
  {
   "cell_type": "code",
   "execution_count": 4,
   "metadata": {
    "collapsed": true
   },
   "outputs": [],
   "source": [
    "county_json_list =['ph_Alameda.json','ph_Alpine.json','ph_Amador.json','ph_Butte.json','ph_Calaveras.json','ph_Colusa.json',\n",
    "                   'ph_Contra Costa.json','ph_Del Norte.json','ph_Fresno.json','ph_Glenn.json','ph_Humboldt.json','ph_Imperial.json','ph_Inyo.json',\n",
    "                   'ph_jackson.json','ph_Kern.json','ph_Kings.json','ph_Lake.json','ph_Lassen.json','ph_LA.json','ph_Madera.json','ph_Marin.json',\n",
    "                   'ph_Mariposa.json','ph_Mendocino.json','ph_Merced.json','ph_Modoc.json','ph_Mono.json',\n",
    "                   'ph_Monterey.json','ph_Napa.json','ph_Nevada.json','ph_Orange.json','ph_Placer.json',\n",
    "                   'ph_Plumas.json', 'ph_Riverside.json', 'ph_Sacramento.json', 'ph_SanBenito.json', 'ph_SanBernardino.json',\n",
    "                   'ph_SanDiego.json', 'ph_SanFrancisco.json', 'ph_SanJoaquin.json', 'ph_SanLuisObispo.json', 'ph_SanMateo.json',\n",
    "                   'ph_SantaBarbara.json', 'ph_SantaClara.json', 'ph_SantaCruz.json', 'ph_Shasta.json', 'ph_Sierra.json',\n",
    "                   'ph_Siskiyou.json', 'ph_Solano.json', 'ph_Stanislaus.json', 'ph_Sutter.json', 'ph_Tehama.json',\n",
    "                   'ph_Trinity.json', 'ph_Tulare.json', 'ph_Tuolumne.json', 'ph_Ventura.json', 'ph_Yolo.json',\n",
    "                    'ph_Yuba.json']"
   ]
  },
  {
   "cell_type": "markdown",
   "metadata": {},
   "source": [
    "#### creates marker with pop up and call json files"
   ]
  },
  {
   "cell_type": "code",
   "execution_count": 6,
   "metadata": {},
   "outputs": [
    {
     "data": {
      "text/plain": [
       "'<folium.folium.Map object at 0x000001FD96B78668>'"
      ]
     },
     "execution_count": 6,
     "metadata": {},
     "output_type": "execute_result"
    }
   ],
   "source": [
    "for i in range(56):\n",
    "    folium.Marker([float(Latitude[i]), float(Longitude[i])],popup=folium.Popup(max_width=600).add_child(folium.Vega(json.load(open(county_json_list[i])), width=500, height=300))).add_to(map_osm)\n",
    "\n",
    "\n",
    "iframe = map_osm.__repr__()\n",
    "iframe"
   ]
  },
  {
   "cell_type": "markdown",
   "metadata": {},
   "source": [
    "#### save the created map on the local,with html file"
   ]
  },
  {
   "cell_type": "code",
   "execution_count": 9,
   "metadata": {
    "collapsed": true
   },
   "outputs": [],
   "source": [
    "map_osm.save('final_ph_map.html')"
   ]
  },
  {
   "cell_type": "code",
   "execution_count": null,
   "metadata": {
    "collapsed": true
   },
   "outputs": [],
   "source": []
  }
 ],
 "metadata": {
  "kernelspec": {
   "display_name": "Python 3",
   "language": "python",
   "name": "python3"
  },
  "language_info": {
   "codemirror_mode": {
    "name": "ipython",
    "version": 3
   },
   "file_extension": ".py",
   "mimetype": "text/x-python",
   "name": "python",
   "nbconvert_exporter": "python",
   "pygments_lexer": "ipython3",
   "version": "3.6.3"
  }
 },
 "nbformat": 4,
 "nbformat_minor": 2
}
