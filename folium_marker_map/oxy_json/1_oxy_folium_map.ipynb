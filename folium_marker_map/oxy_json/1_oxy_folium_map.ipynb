{
 "cells": [
  {
   "cell_type": "markdown",
   "metadata": {},
   "source": [
    "# Folium map with Marker\n",
    "## ( with anual averaged oxygen value from each county)\n",
    "## import the librarlies"
   ]
  },
  {
   "cell_type": "code",
   "execution_count": 18,
   "metadata": {
    "collapsed": true
   },
   "outputs": [],
   "source": [
    "import json\n",
    "import folium\n",
    "\n",
    "import pandas as pd\n",
    "import numpy as np\n",
    "import os\n",
    "from IPython.display import HTML, display\n"
   ]
  },
  {
   "cell_type": "markdown",
   "metadata": {},
   "source": [
    "## display function, creates html output\n",
    "\n"
   ]
  },
  {
   "cell_type": "code",
   "execution_count": 23,
   "metadata": {},
   "outputs": [],
   "source": [
    "from  IPython.display  import HTML\n",
    "\n",
    "def display(m):\n",
    "    '''\n",
    "    display folium data to with the html output\n",
    "    param: m : folium map with every layer added\n",
    "    '''\n",
    "    #m._build_map()\n",
    "    height=1000\n",
    "    srcdoc = m.HTML.replace('\"', '&quot;')\n",
    "    embed = HTML('<iframe srcdoc=\"{0}\" '\n",
    "                 'style=\"width: 100%; height: {1}px; '\n",
    "                 'border: none\"></iframe>'.format(srcdoc, height))\n",
    "    return embed"
   ]
  },
  {
   "cell_type": "markdown",
   "metadata": {},
   "source": [
    "#### creates folium map\n",
    "creates the foliummap with initial setting\n",
    "geojson files creates another layer on top of original map_osm\n",
    "'county_dat.csv' inclues all the mean values geolocation data of each county\n",
    "we use 'pandas' libraries to read the 'county_data.csv'. It has all the counties geolocation data, we are able to get the average geo location value from using \"zip code\" we use pandas to filter them all by the name of the county.we use 'GeoPy' libraries. "
   ]
  },
  {
   "cell_type": "code",
   "execution_count": 17,
   "metadata": {
    "collapsed": true
   },
   "outputs": [],
   "source": [
    "map_osm = folium.Map([33.681229,-117.258796691895],zoom_start=6,tiles='Stamen Terrain')\n",
    "ca_counties = r'ca-counties.geojson'\n",
    "folium.GeoJson(ca_counties,name='geojson').add_to(map_osm)\n",
    "folium.LayerControl().add_to(map_osm)\n",
    "\n",
    "colnames = ['county','mean_Latitude','mean_Longitude','landArea','population','density']\n",
    "\n",
    "df = pd.read_csv('county_data.csv',names= colnames,header =0)\n",
    "county = df['county']\n",
    "Latitude = df['mean_Latitude']\n",
    "Longitude =df['mean_Longitude']\n",
    "landArea = df['landArea']\n",
    "population = df['population']\n",
    "density = df['density']"
   ]
  },
  {
   "cell_type": "markdown",
   "metadata": {},
   "source": [
    "#### json file list\n",
    "json files include the bar graph with data and this creates pop up window when we click the marker on the map\n",
    "\n",
    "###### How we make this?\n",
    "Every measured points has the location value, but we are not able to get the name of the each county. So we also use 'GeoPy' to find the name of county from each variable. and then we filtered them with 'Year' and 'County' and also we use 'pandas' to get the median value of parameters.\n",
    "So we make json files with graph based on the annual average data of each county.\n",
    "\n"
   ]
  },
  {
   "cell_type": "code",
   "execution_count": 16,
   "metadata": {
    "collapsed": true
   },
   "outputs": [],
   "source": [
    "county_json_list =['oxy_Alameda.json','oxy_Alpine.json','oxy_Amador.json','oxy_Butte.json','oxy_Calaveras.json','oxy_Colusa.json',\n",
    "                   'oxy_Contra Costa.json','oxy_Del Norte.json','oxy_Fresno.json','oxy_Glenn.json','oxy_Humboldt.json','oxy_Imperial.json','oxy_Inyo.json',\n",
    "                   'oxy_jackson.json','oxy_Kern.json','oxy_Kings.json','oxy_Lake.json','oxy_Lassen.json','oxy_LA.json','oxy_Madera.json','oxy_Marin.json',\n",
    "                   'oxy_Mariposa.json','oxy_Mendocino.json','oxy_Merced.json','oxy_Modoc.json','oxy_Mono.json',\n",
    "                   'oxy_Monterey.json','oxy_Napa.json','oxy_Nevada.json','oxy_Orange.json','oxy_Placer.json',\n",
    "                   'oxy_Plumas.json', 'oxy_Riverside.json', 'oxy_Sacramento.json', 'oxy_SanBenito.json', 'oxy_SanBernardino.json',\n",
    "                   'oxy_SanDiego.json', 'oxy_SanJoaquin.json', 'oxy_SanLuisObispo.json', 'oxy_SanMateo.json',\n",
    "                   'oxy_SantaBarbara.json', 'oxy_SantaClara.json', 'oxy_SantaCruz.json', 'oxy_Shasta.json', 'oxy_Sierra.json',\n",
    "                   'oxy_Siskiyou.json', 'oxy_Solano.json', 'oxy_Stanislaus.json', 'oxy_Sutter.json', 'oxy_Tehama.json',\n",
    "                   'oxy_Trinity.json', 'oxy_Tulare.json', 'oxy_Tuolumne.json', 'oxy_Ventura.json', 'oxy_Yolo.json',\n",
    "                    'oxy_Yuba.json']"
   ]
  },
  {
   "cell_type": "markdown",
   "metadata": {},
   "source": [
    "#### creates marker with pop up and call json files\n"
   ]
  },
  {
   "cell_type": "code",
   "execution_count": 15,
   "metadata": {},
   "outputs": [
    {
     "data": {
      "text/plain": [
       "'<folium.folium.Map object at 0x0000015BD8122DD8>'"
      ]
     },
     "execution_count": 15,
     "metadata": {},
     "output_type": "execute_result"
    }
   ],
   "source": [
    "# creates marker and popup window\n",
    "for i in range(56):\n",
    "    folium.Marker([float(Latitude[i]), float(Longitude[i])],popup=folium.Popup(max_width=600).add_child(folium.Vega(json.load(open(county_json_list[i])), width=500, height=300))).add_to(map_osm)\n",
    "\n",
    "    \n",
    "iframe = map_osm.__repr__()\n",
    "iframe"
   ]
  },
  {
   "cell_type": "markdown",
   "metadata": {},
   "source": [
    "#### save the created map on the local, with html file"
   ]
  },
  {
   "cell_type": "code",
   "execution_count": 14,
   "metadata": {
    "collapsed": true
   },
   "outputs": [],
   "source": [
    "map_osm.save('final_oxy_map.html')"
   ]
  },
  {
   "cell_type": "code",
   "execution_count": null,
   "metadata": {
    "collapsed": true
   },
   "outputs": [],
   "source": []
  }
 ],
 "metadata": {
  "kernelspec": {
   "display_name": "Python 3",
   "language": "python",
   "name": "python3"
  },
  "language_info": {
   "codemirror_mode": {
    "name": "ipython",
    "version": 3
   },
   "file_extension": ".py",
   "mimetype": "text/x-python",
   "name": "python",
   "nbconvert_exporter": "python",
   "pygments_lexer": "ipython3",
   "version": "3.6.3"
  }
 },
 "nbformat": 4,
 "nbformat_minor": 2
}
